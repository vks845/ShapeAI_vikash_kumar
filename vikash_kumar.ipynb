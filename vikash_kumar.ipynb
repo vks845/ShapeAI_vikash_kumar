{
  "nbformat": 4,
  "nbformat_minor": 0,
  "metadata": {
    "colab": {
      "name": "vikash kumar.ipynb",
      "provenance": [],
      "collapsed_sections": []
    },
    "kernelspec": {
      "name": "python3",
      "display_name": "Python 3"
    },
    "language_info": {
      "name": "python"
    }
  },
  "cells": [
    {
      "cell_type": "code",
      "metadata": {
        "id": "Z3cyczx-jwze"
      },
      "source": [
        "from keras.datasets import mnist\n",
        "data = mnist.load_data()\n"
      ],
      "execution_count": 46,
      "outputs": []
    },
    {
      "cell_type": "code",
      "metadata": {
        "id": "9gPlYNPUkQhD"
      },
      "source": [
        "(x_train , y_train) , ( x_test , y_test) = data"
      ],
      "execution_count": 47,
      "outputs": []
    },
    {
      "cell_type": "code",
      "metadata": {
        "id": "mMvEhVn_kp4_"
      },
      "source": [
        "x_train = x_train.reshape( x_train.shape[0], 28*28).astype('float32')\n",
        "x_test = x_test.reshape((x_test.shape[0] , 28*28)).astype('float32')"
      ],
      "execution_count": 48,
      "outputs": []
    },
    {
      "cell_type": "code",
      "metadata": {
        "id": "CO8RtwDdmkug"
      },
      "source": [
        "x_train = x_train/255\n",
        "x_test = x_test/255"
      ],
      "execution_count": 51,
      "outputs": []
    },
    {
      "cell_type": "code",
      "metadata": {
        "colab": {
          "base_uri": "https://localhost:8080/"
        },
        "id": "h6GHcPTTu3op",
        "outputId": "dad7c03d-aee4-4074-a93d-ec5185ca69ac"
      },
      "source": [
        "from keras.utils import np_utils\n",
        "y_train = np_utils.to_categorical(y_train)\n",
        "y_test = np_utils.to_categorical( y_test)\n",
        "\n",
        "num_classes = y_test.shape[1]\n",
        "print(y_test.shape)"
      ],
      "execution_count": 52,
      "outputs": [
        {
          "output_type": "stream",
          "text": [
            "(10000, 10)\n"
          ],
          "name": "stdout"
        }
      ]
    },
    {
      "cell_type": "code",
      "metadata": {
        "id": "BwAjjU07u8I5"
      },
      "source": [
        "from keras.models import Sequential\n",
        "from keras.layers import Dense"
      ],
      "execution_count": 53,
      "outputs": []
    },
    {
      "cell_type": "code",
      "metadata": {
        "id": "Db1lbFR7vAoJ"
      },
      "source": [
        "model = Sequential()\n",
        "model.add(Dense(32,input_dim = 28*28 , activation = 'relu'))\n",
        "model.add(Dense(64 , activation = 'relu'))\n",
        "model.add(Dense(10 , activation = 'softmax'))"
      ],
      "execution_count": 54,
      "outputs": []
    },
    {
      "cell_type": "code",
      "metadata": {
        "id": "F4iCZEovvEIz"
      },
      "source": [
        "model.compile(loss='categorical_crossentropy', optimizer='adam', metrics=['accuracy'])"
      ],
      "execution_count": 55,
      "outputs": []
    },
    {
      "cell_type": "code",
      "metadata": {
        "colab": {
          "base_uri": "https://localhost:8080/"
        },
        "id": "DPsGOZxsvIA_",
        "outputId": "98285186-b8d1-4469-f971-0c10807d4002"
      },
      "source": [
        "model.summary()"
      ],
      "execution_count": 56,
      "outputs": [
        {
          "output_type": "stream",
          "text": [
            "Model: \"sequential_3\"\n",
            "_________________________________________________________________\n",
            "Layer (type)                 Output Shape              Param #   \n",
            "=================================================================\n",
            "dense_9 (Dense)              (None, 32)                25120     \n",
            "_________________________________________________________________\n",
            "dense_10 (Dense)             (None, 64)                2112      \n",
            "_________________________________________________________________\n",
            "dense_11 (Dense)             (None, 10)                650       \n",
            "=================================================================\n",
            "Total params: 27,882\n",
            "Trainable params: 27,882\n",
            "Non-trainable params: 0\n",
            "_________________________________________________________________\n"
          ],
          "name": "stdout"
        }
      ]
    },
    {
      "cell_type": "code",
      "metadata": {
        "colab": {
          "base_uri": "https://localhost:8080/"
        },
        "id": "LS9bs9-8vLu5",
        "outputId": "cee7ce26-0359-45bb-abfb-ad7d4e58c400"
      },
      "source": [
        "model.fit(x_train, y_train, epochs=10, batch_size=100) "
      ],
      "execution_count": 57,
      "outputs": [
        {
          "output_type": "stream",
          "text": [
            "Epoch 1/10\n",
            "600/600 [==============================] - 2s 3ms/step - loss: 2.3019 - accuracy: 0.1101\n",
            "Epoch 2/10\n",
            "600/600 [==============================] - 2s 3ms/step - loss: 2.3015 - accuracy: 0.1107\n",
            "Epoch 3/10\n",
            "600/600 [==============================] - 2s 3ms/step - loss: 2.3013 - accuracy: 0.1139\n",
            "Epoch 4/10\n",
            "600/600 [==============================] - 2s 3ms/step - loss: 2.3008 - accuracy: 0.1140\n",
            "Epoch 5/10\n",
            "600/600 [==============================] - 2s 3ms/step - loss: 2.3008 - accuracy: 0.1128\n",
            "Epoch 6/10\n",
            "600/600 [==============================] - 2s 3ms/step - loss: 2.3001 - accuracy: 0.1141\n",
            "Epoch 7/10\n",
            "600/600 [==============================] - 2s 3ms/step - loss: 2.2970 - accuracy: 0.1150\n",
            "Epoch 8/10\n",
            "600/600 [==============================] - 2s 3ms/step - loss: 2.2770 - accuracy: 0.1553\n",
            "Epoch 9/10\n",
            "600/600 [==============================] - 2s 3ms/step - loss: 2.2143 - accuracy: 0.1984\n",
            "Epoch 10/10\n",
            "600/600 [==============================] - 2s 3ms/step - loss: 2.1317 - accuracy: 0.2191\n"
          ],
          "name": "stdout"
        },
        {
          "output_type": "execute_result",
          "data": {
            "text/plain": [
              "<tensorflow.python.keras.callbacks.History at 0x7f5c441ad5d0>"
            ]
          },
          "metadata": {
            "tags": []
          },
          "execution_count": 57
        }
      ]
    },
    {
      "cell_type": "code",
      "metadata": {
        "id": "VGcC1oZwvOwJ",
        "colab": {
          "base_uri": "https://localhost:8080/"
        },
        "outputId": "f7ddef68-c07a-4898-bf35-afc609f5763a"
      },
      "source": [
        "scores = model.evaluate(x_test , y_test)\n",
        "print(scores)"
      ],
      "execution_count": 58,
      "outputs": [
        {
          "output_type": "stream",
          "text": [
            "313/313 [==============================] - 0s 1ms/step - loss: 2.0673 - accuracy: 0.2304\n",
            "[2.067323923110962, 0.2303999960422516]\n"
          ],
          "name": "stdout"
        }
      ]
    }
  ]
}